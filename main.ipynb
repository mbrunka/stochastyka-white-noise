{
 "cells": [
  {
   "cell_type": "markdown",
   "metadata": {},
   "source": [
    "# Implementacja\n",
    "\n",
    "### Importowanie bibliotek i własnego generatora"
   ]
  },
  {
   "cell_type": "code",
   "execution_count": null,
   "metadata": {},
   "outputs": [],
   "source": [
    "\n",
    "# from custom_random import rand\n",
    "import numpy as np\n",
    "import matplotlib.pyplot as plt"
   ]
  },
  {
   "cell_type": "markdown",
   "metadata": {},
   "source": [
    "### Zmienne Stałe, Globalne\n",
    "\n",
    "#### Parametry sygnału i zakres"
   ]
  },
  {
   "cell_type": "code",
   "execution_count": null,
   "metadata": {},
   "outputs": [],
   "source": [
    "\n",
    "CZAS_TRWANIA = 1  # sekundy\n",
    "CZESTOTLIWOSC_PROBKOWANIA = 1000  # Hz\n",
    "\n",
    "ZAKRES = (5, 10) # Liczby rzeczywiste"
   ]
  },
  {
   "cell_type": "markdown",
   "metadata": {},
   "source": [
    "#### Obliczanie czasu trawania i generowanie szumu białego"
   ]
  },
  {
   "cell_type": "code",
   "execution_count": null,
   "metadata": {},
   "outputs": [],
   "source": [
    "\n",
    "LICZBA_PROBEK = CZAS_TRWANIA * CZESTOTLIWOSC_PROBKOWANIA\n",
    "szum_bialy = np.random.uniform(-1, 1, LICZBA_PROBEK)"
   ]
  },
  {
   "cell_type": "markdown",
   "metadata": {},
   "source": [
    "### Wykresy\n",
    "\n",
    "#### Wykres czasowy szumu białego o rozkładzie równomiernym"
   ]
  },
  {
   "cell_type": "code",
   "execution_count": null,
   "metadata": {},
   "outputs": [],
   "source": [
    "\n",
    "czas = np.linspace(0, CZAS_TRWANIA, LICZBA_PROBEK)\n",
    "plt.figure(figsize=(10, 5))\n",
    "plt.plot(czas, szum_bialy)\n",
    "plt.title('Wykres czasowy szumu białego o rozkładzie równomiernym')\n",
    "plt.xlabel('Czas [s]')\n",
    "plt.ylabel('Amplituda')\n",
    "plt.grid(True)\n",
    "plt.show()"
   ]
  },
  {
   "cell_type": "markdown",
   "metadata": {},
   "source": [
    "\n",
    "#### Wykres częstotliwościowy szumu białego o rozkładzie równomiernym"
   ]
  },
  {
   "cell_type": "code",
   "execution_count": null,
   "metadata": {},
   "outputs": [],
   "source": [
    "\n",
    "# Wykres częstotliwościowy\n",
    "spektrum = np.abs(np.fft.fft(szum_bialy))[:LICZBA_PROBEK//2]\n",
    "czestotliwosc = np.linspace(0, CZESTOTLIWOSC_PROBKOWANIA/2, len(spektrum))\n",
    "plt.figure(figsize=(10, 5))\n",
    "plt.plot(czestotliwosc, spektrum)\n",
    "plt.title('Wykres częstotliwościowy szumu białego o rozkładzie równomiernym')\n",
    "plt.xlabel('Częstotliwość [Hz]')\n",
    "plt.ylabel('Amplituda')\n",
    "plt.grid(True)\n",
    "plt.show()"
   ]
  }
 ],
 "metadata": {
  "language_info": {
   "name": "python"
  }
 },
 "nbformat": 4,
 "nbformat_minor": 2
}

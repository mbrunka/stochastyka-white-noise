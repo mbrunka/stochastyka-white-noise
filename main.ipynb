{
 "cells": [
  {
   "cell_type": "markdown",
   "metadata": {},
   "source": [
    "# Implementacja\n",
    "\n",
    "### Importowanie bibliotek i własnego generatora"
   ]
  },
  {
   "cell_type": "code",
   "execution_count": 1,
   "metadata": {},
   "outputs": [
    {
     "ename": "ModuleNotFoundError",
     "evalue": "No module named 'numpy'",
     "output_type": "error",
     "traceback": [
      "\u001b[1;31m---------------------------------------------------------------------------\u001b[0m",
      "\u001b[1;31mModuleNotFoundError\u001b[0m                       Traceback (most recent call last)",
      "Cell \u001b[1;32mIn[1], line 2\u001b[0m\n\u001b[0;32m      1\u001b[0m \u001b[38;5;66;03m# from custom_random import rand\u001b[39;00m\n\u001b[1;32m----> 2\u001b[0m \u001b[38;5;28;01mimport\u001b[39;00m \u001b[38;5;21;01mnumpy\u001b[39;00m \u001b[38;5;28;01mas\u001b[39;00m \u001b[38;5;21;01mnp\u001b[39;00m\n\u001b[0;32m      3\u001b[0m \u001b[38;5;28;01mimport\u001b[39;00m \u001b[38;5;21;01mmatplotlib\u001b[39;00m\u001b[38;5;21;01m.\u001b[39;00m\u001b[38;5;21;01mpyplot\u001b[39;00m \u001b[38;5;28;01mas\u001b[39;00m \u001b[38;5;21;01mplt\u001b[39;00m\n",
      "\u001b[1;31mModuleNotFoundError\u001b[0m: No module named 'numpy'"
     ]
    }
   ],
   "source": [
    "\n",
    "# from custom_random import rand\n",
    "import numpy as np\n",
    "import matplotlib.pyplot as plt"
   ]
  },
  {
   "cell_type": "markdown",
   "metadata": {},
   "source": [
    "### Zmienne Stałe, Globalne\n",
    "\n",
    "#### Parametry sygnału i zakres"
   ]
  },
  {
   "cell_type": "code",
   "execution_count": null,
   "metadata": {},
   "outputs": [],
   "source": [
    "\n",
    "CZAS_TRWANIA = 1  # sekundy\n",
    "CZESTOTLIWOSC_PROBKOWANIA = 1000  # Hz\n",
    "\n",
    "ZAKRES = (5, 10) # Liczby rzeczywiste"
   ]
  },
  {
   "cell_type": "markdown",
   "metadata": {},
   "source": [
    "#### Obliczanie czasu trawania i generowanie szumu białego"
   ]
  },
  {
   "cell_type": "code",
   "execution_count": null,
   "metadata": {},
   "outputs": [],
   "source": [
    "\n",
    "LICZBA_PROBEK = CZAS_TRWANIA * CZESTOTLIWOSC_PROBKOWANIA\n",
    "\n",
    "#Stwórz obiket Generator\n",
    "\n",
    "\n",
    "szum_bialy = np.random.uniform(-1, 1, LICZBA_PROBEK)"
   ]
  },
  {
   "cell_type": "markdown",
   "metadata": {},
   "source": [
    "### Wykresy\n",
    "\n",
    "#### Wykres czasowy szumu białego o rozkładzie równomiernym"
   ]
  },
  {
   "cell_type": "code",
   "execution_count": null,
   "metadata": {},
   "outputs": [],
   "source": [
    "\n",
    "czas = np.linspace(0, CZAS_TRWANIA, LICZBA_PROBEK)\n",
    "plt.figure(figsize=(10, 5))\n",
    "plt.plot(czas, szum_bialy)\n",
    "plt.title('Wykres czasowy szumu białego o rozkładzie równomiernym')\n",
    "plt.xlabel('Czas [s]')\n",
    "plt.ylabel('Amplituda')\n",
    "plt.grid(True)\n",
    "plt.show()"
   ]
  },
  {
   "cell_type": "markdown",
   "metadata": {},
   "source": [
    "\n",
    "#### Wykres częstotliwościowy szumu białego o rozkładzie równomiernym"
   ]
  },
  {
   "cell_type": "code",
   "execution_count": null,
   "metadata": {},
   "outputs": [],
   "source": [
    "\n",
    "# Wykres częstotliwościowy\n",
    "spektrum = np.abs(np.fft.fft(szum_bialy))[:LICZBA_PROBEK//2]\n",
    "czestotliwosc = np.linspace(0, CZESTOTLIWOSC_PROBKOWANIA/2, len(spektrum))\n",
    "plt.figure(figsize=(10, 5))\n",
    "plt.plot(czestotliwosc, spektrum)\n",
    "plt.title('Wykres częstotliwościowy szumu białego o rozkładzie równomiernym')\n",
    "plt.xlabel('Częstotliwość [Hz]')\n",
    "plt.ylabel('Amplituda')\n",
    "plt.grid(True)\n",
    "plt.show()"
   ]
  },
  {
   "cell_type": "markdown",
   "metadata": {},
   "source": [
    "### Histogram"
   ]
  },
  {
   "cell_type": "code",
   "execution_count": null,
   "metadata": {},
   "outputs": [],
   "source": [
    "plt.figure(figsize=(10, 5))\n",
    "plt.hist(szum_bialy, bins=50)\n",
    "plt.title('Histogram of szum_bialy')\n",
    "plt.xlabel('Value')\n",
    "plt.ylabel('Frequency')\n",
    "plt.grid(True)\n",
    "plt.show()\n"
   ]
  }
 ],
 "metadata": {
  "kernelspec": {
   "display_name": "Python 3",
   "language": "python",
   "name": "python3"
  },
  "language_info": {
   "codemirror_mode": {
    "name": "ipython",
    "version": 3
   },
   "file_extension": ".py",
   "mimetype": "text/x-python",
   "name": "python",
   "nbconvert_exporter": "python",
   "pygments_lexer": "ipython3",
   "version": "3.12.2"
  }
 },
 "nbformat": 4,
 "nbformat_minor": 2
}
